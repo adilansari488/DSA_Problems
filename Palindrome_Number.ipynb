{
  "nbformat": 4,
  "nbformat_minor": 0,
  "metadata": {
    "colab": {
      "name": "Palindrome Number.ipynb",
      "provenance": []
    },
    "kernelspec": {
      "name": "python3",
      "display_name": "Python 3"
    },
    "language_info": {
      "name": "python"
    }
  },
  "cells": [
    {
      "cell_type": "markdown",
      "source": [
        "Given an integer x, return true if x is palindrome integer.\n",
        "\n",
        "An integer is a palindrome when it reads the same backward as forward.\n",
        "\n",
        "For example, 121 is a palindrome while 123 is not.\n",
        " \n",
        "\n",
        "Example 1:\n",
        "\n",
        "Input: x = 121\n",
        "Output: true\n",
        "Explanation: 121 reads as 121 from left to right and from right to left.\n",
        "Example 2:\n",
        "\n",
        "Input: x = -121\n",
        "Output: false\n",
        "Explanation: From left to right, it reads -121. From right to left, it becomes 121-. Therefore it is not a palindrome.\n",
        "Example 3:\n",
        "\n",
        "Input: x = 10\n",
        "Output: false\n",
        "Explanation: Reads 01 from right to left. Therefore it is not a palindrome.\n",
        " \n",
        "\n",
        "Constraints:\n",
        "\n",
        "-231 <= x <= 231 - 1\n",
        " \n",
        "\n",
        "Follow up: Could you solve it without converting the integer to a string?"
      ],
      "metadata": {
        "id": "Z5rKNvF0ity4"
      }
    },
    {
      "cell_type": "code",
      "source": [
        "def isPelindrome(x) :\n",
        "  original = x                              # Creating varibale to store original input value\n",
        "  final = 0                                 # Creating a variable to store final value\n",
        "  temp = 0                                  # Creating a temprory variable\n",
        "  if x >= 0 :                               # Because numbers smaller than 0 cannot be pelindrom so we included this condition\n",
        "    while x > 0 :                           # Creating a while loop\n",
        "      temp = x                              # Storing x previous value in temp variable\n",
        "      x = int(x/10)                         # Divide x by 10 and convert into int, this will give the number except unit position value. Example- x = 123 , so int(x/10) = 12\n",
        "      final = final*10 + ( temp - x*10 )    # Calculating final for each iteration. Example - x=123, x=int(x/10)-> 3, final=0*10 + (123-12*10) = 3, in next iteration it will be 30+2=32 and so on\n",
        "    if final == original :                  # Comparing oinal value with original\n",
        "      return True                           # Return True if condition is true else return false.\n",
        "  return False"
      ],
      "metadata": {
        "id": "CvZDHfQAo2AB"
      },
      "execution_count": 54,
      "outputs": []
    }
  ]
}