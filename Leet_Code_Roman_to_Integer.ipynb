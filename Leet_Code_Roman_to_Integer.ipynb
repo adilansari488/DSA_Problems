{
  "nbformat": 4,
  "nbformat_minor": 0,
  "metadata": {
    "colab": {
      "name": "Leet_Code_Roman to Integer.ipynb",
      "provenance": []
    },
    "kernelspec": {
      "name": "python3",
      "display_name": "Python 3"
    },
    "language_info": {
      "name": "python"
    }
  },
  "cells": [
    {
      "cell_type": "code",
      "source": [
        ""
      ],
      "metadata": {
        "id": "0_StAAmeYM8k"
      },
      "execution_count": null,
      "outputs": []
    },
    {
      "cell_type": "markdown",
      "source": [
        "# Problem Statement"
      ],
      "metadata": {
        "id": "G0cblwvKYUS-"
      }
    },
    {
      "cell_type": "markdown",
      "source": [
        "Roman numerals are represented by seven different symbols: I, V, X, L, C, D and M.\n",
        "\n",
        "Symbol       Value\n",
        "I             1\n",
        "V             5\n",
        "X             10\n",
        "L             50\n",
        "C             100\n",
        "D             500\n",
        "M             1000\n",
        "For example, 2 is written as II in Roman numeral, just two one's added together. 12 is written as XII, which is simply X + II. The number 27 is written as XXVII, which is XX + V + II.\n",
        "\n",
        "Roman numerals are usually written largest to smallest from left to right. However, the numeral for four is not IIII. Instead, the number four is written as IV. Because the one is before the five we subtract it making four. The same principle applies to the number nine, which is written as IX. There are six instances where subtraction is used:\n",
        "\n",
        "I can be placed before V (5) and X (10) to make 4 and 9. \n",
        "X can be placed before L (50) and C (100) to make 40 and 90. \n",
        "C can be placed before D (500) and M (1000) to make 400 and 900.\n",
        "Given a roman numeral, convert it to an integer.\n",
        "\n",
        " \n",
        "\n",
        "Example 1:\n",
        "\n",
        "Input: s = \"III\"\n",
        "Output: 3\n",
        "Explanation: III = 3.\n",
        "Example 2:\n",
        "\n",
        "Input: s = \"LVIII\"\n",
        "Output: 58\n",
        "Explanation: L = 50, V= 5, III = 3.\n",
        "Example 3:\n",
        "\n",
        "Input: s = \"MCMXCIV\"\n",
        "Output: 1994\n",
        "Explanation: M = 1000, CM = 900, XC = 90 and IV = 4.\n",
        " \n",
        "\n",
        "Constraints:\n",
        "\n",
        "1 <= s.length <= 15\n",
        "s contains only the characters ('I', 'V', 'X', 'L', 'C', 'D', 'M').\n",
        "It is guaranteed that s is a valid roman numeral in the range [1, 3999]."
      ],
      "metadata": {
        "id": "eRgIjGBTYNZ2"
      }
    },
    {
      "cell_type": "markdown",
      "source": [
        "# Change Roman to integer"
      ],
      "metadata": {
        "id": "seLLs_-biD4-"
      }
    },
    {
      "cell_type": "code",
      "source": [
        "def romanToInt(s) :\n",
        "  dic = {'I' :1, 'V' :5, 'X' :10, 'L' :50, 'C' :100, 'D' :500, 'M' :1000 }                            # Dictionary for available values\n",
        "  num = 0\n",
        "  for i in range(len(s)-1) :       # run till lenght of input string - 1\n",
        "    if dic[s[i]] >= dic[s[i+1]] :  # if i char is greater than i+1  (Example - value of L > value of X, in LX)\n",
        "      num += dic[s[i]]             # So it means they are increasing order and we can add\n",
        "    else :                         # else, they are in decreasing order so we need to subtract (Example -  in [IV,  V-I=4] , [XL, L-X=40] etc.)\n",
        "      num -= dic[s[i]]\n",
        "  num += dic[s[-1]]                # In last, add the last number of the string as left in the loop\n",
        "  return num                       # Return the num value."
      ],
      "metadata": {
        "id": "fiTe8z1hKv_F"
      },
      "execution_count": 37,
      "outputs": []
    },
    {
      "cell_type": "code",
      "source": [
        "romanToInt(\"MCXL\")"
      ],
      "metadata": {
        "colab": {
          "base_uri": "https://localhost:8080/"
        },
        "id": "WgJicw2tYcPU",
        "outputId": "c5c0b578-bf3e-40c3-ffa6-141a7a15435d"
      },
      "execution_count": 39,
      "outputs": [
        {
          "output_type": "execute_result",
          "data": {
            "text/plain": [
              "1140"
            ]
          },
          "metadata": {},
          "execution_count": 39
        }
      ]
    },
    {
      "cell_type": "code",
      "source": [
        ""
      ],
      "metadata": {
        "id": "EBCvjeb1Yn_9"
      },
      "execution_count": null,
      "outputs": []
    }
  ]
}